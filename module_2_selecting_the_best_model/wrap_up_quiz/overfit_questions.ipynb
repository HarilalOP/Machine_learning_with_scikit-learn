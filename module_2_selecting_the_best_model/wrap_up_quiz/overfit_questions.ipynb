{
 "cells": [
  {
   "cell_type": "code",
   "execution_count": 1,
   "metadata": {},
   "outputs": [],
   "source": [
    "import pandas as pd\n",
    "\n",
    "blood_transfusion = pd.read_csv(\"../datasets/blood_transfusion.csv\")\n",
    "target_name = \"Class\"\n",
    "data = blood_transfusion.drop(columns=target_name)\n",
    "target = blood_transfusion[target_name]"
   ]
  },
  {
   "cell_type": "code",
   "execution_count": 2,
   "metadata": {},
   "outputs": [
    {
     "data": {
      "text/html": [
       "<div>\n",
       "<style scoped>\n",
       "    .dataframe tbody tr th:only-of-type {\n",
       "        vertical-align: middle;\n",
       "    }\n",
       "\n",
       "    .dataframe tbody tr th {\n",
       "        vertical-align: top;\n",
       "    }\n",
       "\n",
       "    .dataframe thead th {\n",
       "        text-align: right;\n",
       "    }\n",
       "</style>\n",
       "<table border=\"1\" class=\"dataframe\">\n",
       "  <thead>\n",
       "    <tr style=\"text-align: right;\">\n",
       "      <th></th>\n",
       "      <th>Recency</th>\n",
       "      <th>Frequency</th>\n",
       "      <th>Monetary</th>\n",
       "      <th>Time</th>\n",
       "    </tr>\n",
       "  </thead>\n",
       "  <tbody>\n",
       "    <tr>\n",
       "      <th>0</th>\n",
       "      <td>2</td>\n",
       "      <td>50</td>\n",
       "      <td>12500</td>\n",
       "      <td>98</td>\n",
       "    </tr>\n",
       "    <tr>\n",
       "      <th>1</th>\n",
       "      <td>0</td>\n",
       "      <td>13</td>\n",
       "      <td>3250</td>\n",
       "      <td>28</td>\n",
       "    </tr>\n",
       "    <tr>\n",
       "      <th>2</th>\n",
       "      <td>1</td>\n",
       "      <td>16</td>\n",
       "      <td>4000</td>\n",
       "      <td>35</td>\n",
       "    </tr>\n",
       "    <tr>\n",
       "      <th>3</th>\n",
       "      <td>2</td>\n",
       "      <td>20</td>\n",
       "      <td>5000</td>\n",
       "      <td>45</td>\n",
       "    </tr>\n",
       "    <tr>\n",
       "      <th>4</th>\n",
       "      <td>1</td>\n",
       "      <td>24</td>\n",
       "      <td>6000</td>\n",
       "      <td>77</td>\n",
       "    </tr>\n",
       "  </tbody>\n",
       "</table>\n",
       "</div>"
      ],
      "text/plain": [
       "   Recency  Frequency  Monetary  Time\n",
       "0        2         50     12500    98\n",
       "1        0         13      3250    28\n",
       "2        1         16      4000    35\n",
       "3        2         20      5000    45\n",
       "4        1         24      6000    77"
      ]
     },
     "execution_count": 2,
     "metadata": {},
     "output_type": "execute_result"
    }
   ],
   "source": [
    "data.head()"
   ]
  },
  {
   "cell_type": "code",
   "execution_count": 6,
   "metadata": {},
   "outputs": [
    {
     "data": {
      "text/plain": [
       "array(['donated', 'not donated'], dtype=object)"
      ]
     },
     "execution_count": 6,
     "metadata": {},
     "output_type": "execute_result"
    }
   ],
   "source": [
    "target.unique()"
   ]
  },
  {
   "cell_type": "code",
   "execution_count": 7,
   "metadata": {},
   "outputs": [
    {
     "data": {
      "text/plain": [
       "not donated    0.762032\n",
       "donated        0.237968\n",
       "Name: Class, dtype: float64"
      ]
     },
     "execution_count": 7,
     "metadata": {},
     "output_type": "execute_result"
    }
   ],
   "source": [
    "target.value_counts(normalize=True)"
   ]
  },
  {
   "cell_type": "code",
   "execution_count": 8,
   "metadata": {},
   "outputs": [],
   "source": [
    "from sklearn.dummy import DummyClassifier\n",
    "\n",
    "dummy_clf = DummyClassifier(strategy=\"most_frequent\")"
   ]
  },
  {
   "cell_type": "code",
   "execution_count": 9,
   "metadata": {},
   "outputs": [
    {
     "name": "stdout",
     "output_type": "stream",
     "text": [
      "0.76 accuracy with a standard deviation of 0.00\n"
     ]
    }
   ],
   "source": [
    "from sklearn.model_selection import cross_val_score\n",
    "\n",
    "scores = cross_val_score(dummy_clf, data, target, cv=10)\n",
    "\n",
    "print(\"%0.2f accuracy with a standard deviation of %0.2f\" % (scores.mean(), scores.std()))"
   ]
  },
  {
   "cell_type": "code",
   "execution_count": 10,
   "metadata": {},
   "outputs": [
    {
     "name": "stdout",
     "output_type": "stream",
     "text": [
      "0.50 accuracy with a standard deviation of 0.00\n"
     ]
    }
   ],
   "source": [
    "scores = cross_val_score(dummy_clf, data, target, cv=10, scoring=\"balanced_accuracy\")\n",
    "\n",
    "print(\"%0.2f accuracy with a standard deviation of %0.2f\" % (scores.mean(), scores.std()))"
   ]
  },
  {
   "cell_type": "code",
   "execution_count": 17,
   "metadata": {},
   "outputs": [
    {
     "data": {
      "text/html": [
       "<style>#sk-c8bf1f71-44d8-4cd9-a0a5-73caf400fbe3 {color: black;background-color: white;}#sk-c8bf1f71-44d8-4cd9-a0a5-73caf400fbe3 pre{padding: 0;}#sk-c8bf1f71-44d8-4cd9-a0a5-73caf400fbe3 div.sk-toggleable {background-color: white;}#sk-c8bf1f71-44d8-4cd9-a0a5-73caf400fbe3 label.sk-toggleable__label {cursor: pointer;display: block;width: 100%;margin-bottom: 0;padding: 0.2em 0.3em;box-sizing: border-box;text-align: center;}#sk-c8bf1f71-44d8-4cd9-a0a5-73caf400fbe3 div.sk-toggleable__content {max-height: 0;max-width: 0;overflow: hidden;text-align: left;background-color: #f0f8ff;}#sk-c8bf1f71-44d8-4cd9-a0a5-73caf400fbe3 div.sk-toggleable__content pre {margin: 0.2em;color: black;border-radius: 0.25em;background-color: #f0f8ff;}#sk-c8bf1f71-44d8-4cd9-a0a5-73caf400fbe3 input.sk-toggleable__control:checked~div.sk-toggleable__content {max-height: 200px;max-width: 100%;overflow: auto;}#sk-c8bf1f71-44d8-4cd9-a0a5-73caf400fbe3 div.sk-estimator input.sk-toggleable__control:checked~label.sk-toggleable__label {background-color: #d4ebff;}#sk-c8bf1f71-44d8-4cd9-a0a5-73caf400fbe3 div.sk-label input.sk-toggleable__control:checked~label.sk-toggleable__label {background-color: #d4ebff;}#sk-c8bf1f71-44d8-4cd9-a0a5-73caf400fbe3 input.sk-hidden--visually {border: 0;clip: rect(1px 1px 1px 1px);clip: rect(1px, 1px, 1px, 1px);height: 1px;margin: -1px;overflow: hidden;padding: 0;position: absolute;width: 1px;}#sk-c8bf1f71-44d8-4cd9-a0a5-73caf400fbe3 div.sk-estimator {font-family: monospace;background-color: #f0f8ff;margin: 0.25em 0.25em;border: 1px dotted black;border-radius: 0.25em;box-sizing: border-box;}#sk-c8bf1f71-44d8-4cd9-a0a5-73caf400fbe3 div.sk-estimator:hover {background-color: #d4ebff;}#sk-c8bf1f71-44d8-4cd9-a0a5-73caf400fbe3 div.sk-parallel-item::after {content: \"\";width: 100%;border-bottom: 1px solid gray;flex-grow: 1;}#sk-c8bf1f71-44d8-4cd9-a0a5-73caf400fbe3 div.sk-label:hover label.sk-toggleable__label {background-color: #d4ebff;}#sk-c8bf1f71-44d8-4cd9-a0a5-73caf400fbe3 div.sk-serial::before {content: \"\";position: absolute;border-left: 1px solid gray;box-sizing: border-box;top: 2em;bottom: 0;left: 50%;}#sk-c8bf1f71-44d8-4cd9-a0a5-73caf400fbe3 div.sk-serial {display: flex;flex-direction: column;align-items: center;background-color: white;}#sk-c8bf1f71-44d8-4cd9-a0a5-73caf400fbe3 div.sk-item {z-index: 1;}#sk-c8bf1f71-44d8-4cd9-a0a5-73caf400fbe3 div.sk-parallel {display: flex;align-items: stretch;justify-content: center;background-color: white;}#sk-c8bf1f71-44d8-4cd9-a0a5-73caf400fbe3 div.sk-parallel-item {display: flex;flex-direction: column;position: relative;background-color: white;}#sk-c8bf1f71-44d8-4cd9-a0a5-73caf400fbe3 div.sk-parallel-item:first-child::after {align-self: flex-end;width: 50%;}#sk-c8bf1f71-44d8-4cd9-a0a5-73caf400fbe3 div.sk-parallel-item:last-child::after {align-self: flex-start;width: 50%;}#sk-c8bf1f71-44d8-4cd9-a0a5-73caf400fbe3 div.sk-parallel-item:only-child::after {width: 0;}#sk-c8bf1f71-44d8-4cd9-a0a5-73caf400fbe3 div.sk-dashed-wrapped {border: 1px dashed gray;margin: 0.2em;box-sizing: border-box;padding-bottom: 0.1em;background-color: white;position: relative;}#sk-c8bf1f71-44d8-4cd9-a0a5-73caf400fbe3 div.sk-label label {font-family: monospace;font-weight: bold;background-color: white;display: inline-block;line-height: 1.2em;}#sk-c8bf1f71-44d8-4cd9-a0a5-73caf400fbe3 div.sk-label-container {position: relative;z-index: 2;text-align: center;}#sk-c8bf1f71-44d8-4cd9-a0a5-73caf400fbe3 div.sk-container {display: inline-block;position: relative;}</style><div id=\"sk-c8bf1f71-44d8-4cd9-a0a5-73caf400fbe3\" class\"sk-top-container\"><div class=\"sk-container\"><div class=\"sk-item sk-dashed-wrapped\"><div class=\"sk-label-container\"><div class=\"sk-label sk-toggleable\"><input class=\"sk-toggleable__control sk-hidden--visually\" id=\"7edb2c06-7af7-4803-b444-1a7db0f1d7bc\" type=\"checkbox\" ><label class=\"sk-toggleable__label\" for=\"7edb2c06-7af7-4803-b444-1a7db0f1d7bc\">Pipeline</label><div class=\"sk-toggleable__content\"><pre>Pipeline(steps=[('standardscaler', StandardScaler()),\n",
       "                ('kneighborsclassifier', KNeighborsClassifier())])</pre></div></div></div><div class=\"sk-serial\"><div class=\"sk-item\"><div class=\"sk-estimator sk-toggleable\"><input class=\"sk-toggleable__control sk-hidden--visually\" id=\"9339c0af-3d08-4039-bd8b-a9413a9f4ca3\" type=\"checkbox\" ><label class=\"sk-toggleable__label\" for=\"9339c0af-3d08-4039-bd8b-a9413a9f4ca3\">StandardScaler</label><div class=\"sk-toggleable__content\"><pre>StandardScaler()</pre></div></div></div><div class=\"sk-item\"><div class=\"sk-estimator sk-toggleable\"><input class=\"sk-toggleable__control sk-hidden--visually\" id=\"2b14c8ba-a570-4760-b2cf-fd3a28d6f9ad\" type=\"checkbox\" ><label class=\"sk-toggleable__label\" for=\"2b14c8ba-a570-4760-b2cf-fd3a28d6f9ad\">KNeighborsClassifier</label><div class=\"sk-toggleable__content\"><pre>KNeighborsClassifier()</pre></div></div></div></div></div></div></div>"
      ],
      "text/plain": [
       "Pipeline(steps=[('standardscaler', StandardScaler()),\n",
       "                ('kneighborsclassifier', KNeighborsClassifier())])"
      ]
     },
     "execution_count": 17,
     "metadata": {},
     "output_type": "execute_result"
    }
   ],
   "source": [
    "from sklearn.neighbors import KNeighborsClassifier\n",
    "from sklearn.pipeline import make_pipeline\n",
    "from sklearn.preprocessing import StandardScaler\n",
    "\n",
    "model = make_pipeline(StandardScaler(), KNeighborsClassifier())\n",
    "model"
   ]
  },
  {
   "cell_type": "code",
   "execution_count": 19,
   "metadata": {},
   "outputs": [
    {
     "data": {
      "text/plain": [
       "{'memory': None,\n",
       " 'steps': [('standardscaler', StandardScaler()),\n",
       "  ('kneighborsclassifier', KNeighborsClassifier())],\n",
       " 'verbose': False,\n",
       " 'standardscaler': StandardScaler(),\n",
       " 'kneighborsclassifier': KNeighborsClassifier(),\n",
       " 'standardscaler__copy': True,\n",
       " 'standardscaler__with_mean': True,\n",
       " 'standardscaler__with_std': True,\n",
       " 'kneighborsclassifier__algorithm': 'auto',\n",
       " 'kneighborsclassifier__leaf_size': 30,\n",
       " 'kneighborsclassifier__metric': 'minkowski',\n",
       " 'kneighborsclassifier__metric_params': None,\n",
       " 'kneighborsclassifier__n_jobs': None,\n",
       " 'kneighborsclassifier__n_neighbors': 5,\n",
       " 'kneighborsclassifier__p': 2,\n",
       " 'kneighborsclassifier__weights': 'uniform'}"
      ]
     },
     "execution_count": 19,
     "metadata": {},
     "output_type": "execute_result"
    }
   ],
   "source": [
    " model.get_params()"
   ]
  },
  {
   "cell_type": "code",
   "execution_count": 23,
   "metadata": {},
   "outputs": [
    {
     "data": {
      "text/plain": [
       "train_score    0.699447\n",
       "test_score     0.529128\n",
       "dtype: float64"
      ]
     },
     "execution_count": 23,
     "metadata": {},
     "output_type": "execute_result"
    }
   ],
   "source": [
    "from sklearn.model_selection import cross_validate\n",
    "\n",
    "cv_results = cross_validate(\n",
    "    model, data, target, cv=10, scoring=\"balanced_accuracy\", return_train_score=True\n",
    ")\n",
    "cv_results = pd.DataFrame(cv_results)\n",
    "cv_results[[\"train_score\", \"test_score\"]].mean()"
   ]
  },
  {
   "cell_type": "code",
   "execution_count": 27,
   "metadata": {},
   "outputs": [],
   "source": [
    "from sklearn.model_selection import validation_curve\n",
    "\n",
    "model = make_pipeline(StandardScaler(), KNeighborsClassifier())\n",
    "\n",
    "param_range = [1, 2, 5, 10, 20, 50, 100, 200, 500]\n",
    "train_scores, test_scores = validation_curve(\n",
    "    model, data, target, param_name=\"kneighborsclassifier__n_neighbors\", param_range=param_range,\n",
    "    cv=5, scoring=\"balanced_accuracy\")"
   ]
  },
  {
   "cell_type": "code",
   "execution_count": 30,
   "metadata": {},
   "outputs": [
    {
     "data": {
      "image/png": "[encoded data removed]",
      "text/plain": [
       "<Figure size 432x288 with 1 Axes>"
      ]
     },
     "metadata": {
      "needs_background": "light"
     },
     "output_type": "display_data"
    }
   ],
   "source": [
    "import matplotlib.pyplot as plt\n",
    "\n",
    "plt.plot(param_range, train_scores.mean(axis=1), label=\"Training score\")\n",
    "plt.plot(param_range, test_scores.mean(axis=1), label=\"Testing score\")\n",
    "plt.legend()\n",
    "\n",
    "plt.xlabel(\"Number of neighbors of KNN\")\n",
    "plt.ylabel(\"Balanced accuracy\")\n",
    "_ = plt.title(\"Validation curve for KNN classifier\")"
   ]
  },
  {
   "cell_type": "code",
   "execution_count": 31,
   "metadata": {},
   "outputs": [
    {
     "data": {
      "text/plain": [
       "Text(0.5, 1.0, 'Validation curve of K-nearest neighbors')"
      ]
     },
     "execution_count": 31,
     "metadata": {},
     "output_type": "execute_result"
    },
    {
     "data": {
      "image/png": "[encoded data removed]",
      "text/plain": [
       "<Figure size 432x288 with 1 Axes>"
      ]
     },
     "metadata": {
      "needs_background": "light"
     },
     "output_type": "display_data"
    }
   ],
   "source": [
    "from sklearn.model_selection import validation_curve\n",
    "import matplotlib.pyplot as plt\n",
    "\n",
    "param_range = [1, 2, 5, 10, 20, 50, 100, 200, 500]\n",
    "param_name = \"kneighborsclassifier__n_neighbors\"\n",
    "train_scores, test_scores = validation_curve(\n",
    "    model, data, target, param_name=param_name, param_range=param_range, cv=5,\n",
    "    n_jobs=2, scoring=\"balanced_accuracy\")\n",
    "\n",
    "_, ax = plt.subplots()\n",
    "for name, scores in zip(\n",
    "    [\"Training score\", \"Testing score\"], [train_scores, test_scores]\n",
    "):\n",
    "    ax.plot(\n",
    "        param_range, scores.mean(axis=1), linestyle=\"-.\", label=name,\n",
    "        alpha=0.8)\n",
    "    ax.fill_between(\n",
    "        param_range, scores.mean(axis=1) - scores.std(axis=1),\n",
    "        scores.mean(axis=1) + scores.std(axis=1),\n",
    "        alpha=0.5, label=f\"std. dev. {name.lower()}\")\n",
    "\n",
    "ax.set_xticks(param_range)\n",
    "ax.set_xscale(\"log\")\n",
    "ax.set_xlabel(\"Value of hyperparameter n_neighbors\")\n",
    "ax.set_ylabel(\"Balanced accuracy score\")\n",
    "ax.set_title(\"Validation curve of K-nearest neighbors\")"
   ]
  },
  {
   "cell_type": "code",
   "execution_count": null,
   "metadata": {},
   "outputs": [],
   "source": []
  }
 ],
 "metadata": {
  "kernelspec": {
   "display_name": "Python 3",
   "language": "python",
   "name": "python3"
  },
  "language_info": {
   "codemirror_mode": {
    "name": "ipython",
    "version": 3
   },
   "file_extension": ".py",
   "mimetype": "text/x-python",
   "name": "python",
   "nbconvert_exporter": "python",
   "pygments_lexer": "ipython3",
   "version": "3.9.2"
  }
 },
 "nbformat": 4,
 "nbformat_minor": 4
}
