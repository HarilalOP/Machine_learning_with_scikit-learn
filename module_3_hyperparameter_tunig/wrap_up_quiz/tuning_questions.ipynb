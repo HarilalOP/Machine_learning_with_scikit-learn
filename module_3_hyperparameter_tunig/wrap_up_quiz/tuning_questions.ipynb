{
 "cells": [
  {
   "cell_type": "code",
   "execution_count": 1,
   "metadata": {},
   "outputs": [],
   "source": [
    "import pandas as pd\n",
    "\n",
    "penguins = pd.read_csv(\"../datasets/penguins.csv\")\n",
    "\n",
    "columns = [\"Body Mass (g)\", \"Flipper Length (mm)\", \"Culmen Length (mm)\"]\n",
    "target_name = \"Species\"\n",
    "\n",
    "# Remove lines with missing values for the columns of interestes\n",
    "penguins_non_missing = penguins[columns + [target_name]].dropna()\n",
    "\n",
    "data = penguins_non_missing[columns]\n",
    "target = penguins_non_missing[target_name]"
   ]
  },
  {
   "cell_type": "code",
   "execution_count": 3,
   "metadata": {},
   "outputs": [
    {
     "data": {
      "text/html": [
       "<div>\n",
       "<style scoped>\n",
       "    .dataframe tbody tr th:only-of-type {\n",
       "        vertical-align: middle;\n",
       "    }\n",
       "\n",
       "    .dataframe tbody tr th {\n",
       "        vertical-align: top;\n",
       "    }\n",
       "\n",
       "    .dataframe thead th {\n",
       "        text-align: right;\n",
       "    }\n",
       "</style>\n",
       "<table border=\"1\" class=\"dataframe\">\n",
       "  <thead>\n",
       "    <tr style=\"text-align: right;\">\n",
       "      <th></th>\n",
       "      <th>Body Mass (g)</th>\n",
       "      <th>Flipper Length (mm)</th>\n",
       "      <th>Culmen Length (mm)</th>\n",
       "    </tr>\n",
       "  </thead>\n",
       "  <tbody>\n",
       "    <tr>\n",
       "      <th>0</th>\n",
       "      <td>3750.0</td>\n",
       "      <td>181.0</td>\n",
       "      <td>39.1</td>\n",
       "    </tr>\n",
       "    <tr>\n",
       "      <th>1</th>\n",
       "      <td>3800.0</td>\n",
       "      <td>186.0</td>\n",
       "      <td>39.5</td>\n",
       "    </tr>\n",
       "    <tr>\n",
       "      <th>2</th>\n",
       "      <td>3250.0</td>\n",
       "      <td>195.0</td>\n",
       "      <td>40.3</td>\n",
       "    </tr>\n",
       "    <tr>\n",
       "      <th>4</th>\n",
       "      <td>3450.0</td>\n",
       "      <td>193.0</td>\n",
       "      <td>36.7</td>\n",
       "    </tr>\n",
       "    <tr>\n",
       "      <th>5</th>\n",
       "      <td>3650.0</td>\n",
       "      <td>190.0</td>\n",
       "      <td>39.3</td>\n",
       "    </tr>\n",
       "  </tbody>\n",
       "</table>\n",
       "</div>"
      ],
      "text/plain": [
       "   Body Mass (g)  Flipper Length (mm)  Culmen Length (mm)\n",
       "0         3750.0                181.0                39.1\n",
       "1         3800.0                186.0                39.5\n",
       "2         3250.0                195.0                40.3\n",
       "4         3450.0                193.0                36.7\n",
       "5         3650.0                190.0                39.3"
      ]
     },
     "execution_count": 3,
     "metadata": {},
     "output_type": "execute_result"
    }
   ],
   "source": [
    "data.head()"
   ]
  },
  {
   "cell_type": "code",
   "execution_count": 4,
   "metadata": {},
   "outputs": [
    {
     "data": {
      "text/plain": [
       "0    Adelie Penguin (Pygoscelis adeliae)\n",
       "1    Adelie Penguin (Pygoscelis adeliae)\n",
       "2    Adelie Penguin (Pygoscelis adeliae)\n",
       "4    Adelie Penguin (Pygoscelis adeliae)\n",
       "5    Adelie Penguin (Pygoscelis adeliae)\n",
       "Name: Species, dtype: object"
      ]
     },
     "execution_count": 4,
     "metadata": {},
     "output_type": "execute_result"
    }
   ],
   "source": [
    "target.head()"
   ]
  },
  {
   "cell_type": "code",
   "execution_count": 5,
   "metadata": {},
   "outputs": [
    {
     "data": {
      "text/plain": [
       "Adelie Penguin (Pygoscelis adeliae)          151\n",
       "Gentoo penguin (Pygoscelis papua)            123\n",
       "Chinstrap penguin (Pygoscelis antarctica)     68\n",
       "Name: Species, dtype: int64"
      ]
     },
     "execution_count": 5,
     "metadata": {},
     "output_type": "execute_result"
    }
   ],
   "source": [
    "target.value_counts()"
   ]
  },
  {
   "cell_type": "code",
   "execution_count": 14,
   "metadata": {},
   "outputs": [],
   "source": [
    "from sklearn.neighbors import KNeighborsClassifier\n",
    "from sklearn.preprocessing import StandardScaler\n",
    "from sklearn.pipeline import Pipeline\n",
    "model = Pipeline(steps=[\n",
    "    (\"preprocessor\", StandardScaler()),\n",
    "    (\"classifier\", KNeighborsClassifier()),\n",
    "])"
   ]
  },
  {
   "cell_type": "code",
   "execution_count": 15,
   "metadata": {},
   "outputs": [
    {
     "data": {
      "text/plain": [
       "{'memory': None,\n",
       " 'steps': [('preprocessor', StandardScaler()),\n",
       "  ('classifier', KNeighborsClassifier())],\n",
       " 'verbose': False,\n",
       " 'preprocessor': StandardScaler(),\n",
       " 'classifier': KNeighborsClassifier(),\n",
       " 'preprocessor__copy': True,\n",
       " 'preprocessor__with_mean': True,\n",
       " 'preprocessor__with_std': True,\n",
       " 'classifier__algorithm': 'auto',\n",
       " 'classifier__leaf_size': 30,\n",
       " 'classifier__metric': 'minkowski',\n",
       " 'classifier__metric_params': None,\n",
       " 'classifier__n_jobs': None,\n",
       " 'classifier__n_neighbors': 5,\n",
       " 'classifier__p': 2,\n",
       " 'classifier__weights': 'uniform'}"
      ]
     },
     "execution_count": 15,
     "metadata": {},
     "output_type": "execute_result"
    }
   ],
   "source": [
    "model.get_params()"
   ]
  },
  {
   "cell_type": "code",
   "execution_count": 16,
   "metadata": {},
   "outputs": [
    {
     "name": "stdout",
     "output_type": "stream",
     "text": [
      "Accuracy score via cross-validation with n=5:\n",
      "0.952 +/- 0.040\n",
      "Accuracy score via cross-validation with n=51:\n",
      "0.942 +/- 0.039\n"
     ]
    }
   ],
   "source": [
    "from sklearn.model_selection import cross_validate\n",
    "\n",
    "for n in [5, 51]:\n",
    "    model.set_params(classifier__n_neighbors=n)\n",
    "    cv_results = cross_validate(model, data, target, cv=10, scoring=\"balanced_accuracy\")\n",
    "    scores = cv_results[\"test_score\"]\n",
    "    print(f\"Accuracy score via cross-validation with n={n}:\\n\"\n",
    "          f\"{scores.mean():.3f} +/- {scores.std():.3f}\")"
   ]
  },
  {
   "cell_type": "code",
   "execution_count": 17,
   "metadata": {},
   "outputs": [
    {
     "data": {
      "text/plain": [
       "0.981"
      ]
     },
     "execution_count": 17,
     "metadata": {},
     "output_type": "execute_result"
    }
   ],
   "source": [
    "0.942 + 0.039"
   ]
  },
  {
   "cell_type": "code",
   "execution_count": 18,
   "metadata": {},
   "outputs": [
    {
     "data": {
      "text/plain": [
       "0.9029999999999999"
      ]
     },
     "execution_count": 18,
     "metadata": {},
     "output_type": "execute_result"
    }
   ],
   "source": [
    "0.942 - 0.039"
   ]
  },
  {
   "cell_type": "code",
   "execution_count": 19,
   "metadata": {},
   "outputs": [
    {
     "name": "stdout",
     "output_type": "stream",
     "text": [
      "Accuracy score via cross-validation with n=5:\n",
      "0.740 +/- 0.087\n"
     ]
    }
   ],
   "source": [
    "model = KNeighborsClassifier(n_neighbors=5)\n",
    "\n",
    "cv_results = cross_validate(model, data, target, cv=10, scoring=\"balanced_accuracy\")\n",
    "scores = cv_results[\"test_score\"]\n",
    "print(f\"Accuracy score via cross-validation with n={5}:\\n\"\n",
    "      f\"{scores.mean():.3f} +/- {scores.std():.3f}\")"
   ]
  },
  {
   "cell_type": "code",
   "execution_count": 23,
   "metadata": {},
   "outputs": [
    {
     "data": {
      "text/plain": [
       "array([1.        , 1.        , 1.        , 0.91880342, 0.88253968,\n",
       "       0.95238095, 0.97777778, 0.93015873, 0.90793651, 0.95238095])"
      ]
     },
     "execution_count": 23,
     "metadata": {},
     "output_type": "execute_result"
    }
   ],
   "source": [
    "from sklearn.model_selection import cross_validate\n",
    "\n",
    "model = Pipeline(steps=[\n",
    "    (\"preprocessor\", StandardScaler()),\n",
    "    (\"classifier\", KNeighborsClassifier()),\n",
    "])\n",
    "\n",
    "cv_results = cross_validate(model, data, target, cv=10,\n",
    "                            scoring=\"balanced_accuracy\")\n",
    "cv_results[\"test_score\"]"
   ]
  },
  {
   "cell_type": "markdown",
   "metadata": {},
   "source": [
    "which gives values between 0.88 and 1.0 with an average close to 0.95.\n",
    "\n",
    "It is possible to change the pipeline parameters and re-run a cross-validation with:"
   ]
  },
  {
   "cell_type": "code",
   "execution_count": 24,
   "metadata": {},
   "outputs": [
    {
     "data": {
      "text/plain": [
       "array([0.95238095, 0.97777778, 1.        , 0.86324786, 0.88253968,\n",
       "       0.95238095, 0.95555556, 0.95238095, 0.93015873, 0.95238095])"
      ]
     },
     "execution_count": 24,
     "metadata": {},
     "output_type": "execute_result"
    }
   ],
   "source": [
    "model.set_params(classifier__n_neighbors=51)\n",
    "cv_results = cross_validate(model, data, target, cv=10,\n",
    "                            scoring=\"balanced_accuracy\")\n",
    "cv_results[\"test_score\"]"
   ]
  },
  {
   "cell_type": "markdown",
   "metadata": {},
   "source": [
    "which gives slightly worse test scores but the difference is not necessarily significant: they overlap a lot.\n",
    "\n",
    "We can disable the preprocessor by setting the preprocessor parameter to None (while resetting the number of neighbors to 5) as follows:"
   ]
  },
  {
   "cell_type": "code",
   "execution_count": 25,
   "metadata": {},
   "outputs": [
    {
     "data": {
      "text/plain": [
       "array([0.66468254, 0.73601954, 0.74102564, 0.7042735 , 0.58412698,\n",
       "       0.66984127, 0.83492063, 0.74285714, 0.88253968, 0.83809524])"
      ]
     },
     "execution_count": 25,
     "metadata": {},
     "output_type": "execute_result"
    }
   ],
   "source": [
    "model.set_params(preprocessor=None, classifier__n_neighbors=5)\n",
    "cv_results = cross_validate(model, data, target, cv=10,\n",
    "                            scoring=\"balanced_accuracy\")\n",
    "cv_results[\"test_score\"]"
   ]
  },
  {
   "cell_type": "code",
   "execution_count": 26,
   "metadata": {},
   "outputs": [],
   "source": [
    "from sklearn.preprocessing import MinMaxScaler\n",
    "from sklearn.preprocessing import QuantileTransformer\n",
    "from sklearn.preprocessing import PowerTransformer\n",
    "\n",
    "\n",
    "all_preprocessors = [\n",
    "    None,\n",
    "    StandardScaler(),\n",
    "    MinMaxScaler(),\n",
    "    QuantileTransformer(n_quantiles=100),\n",
    "    PowerTransformer(method=\"box-cox\"),\n",
    "]"
   ]
  },
  {
   "cell_type": "code",
   "execution_count": 27,
   "metadata": {},
   "outputs": [],
   "source": [
    "model = Pipeline(steps=[\n",
    "    (\"preprocessor\", StandardScaler()),\n",
    "    (\"classifier\", KNeighborsClassifier()),\n",
    "])"
   ]
  },
  {
   "cell_type": "code",
   "execution_count": 33,
   "metadata": {},
   "outputs": [],
   "source": [
    "from sklearn.model_selection import GridSearchCV\n",
    "\n",
    "param_grid = {\n",
    "    'preprocessor': all_preprocessors,\n",
    "    'classifier__n_neighbors': (5, 51, 101)}\n",
    "\n",
    "model_grid_search = GridSearchCV(model, param_grid=param_grid,\n",
    "                                 n_jobs=4, cv=2)\n",
    "\n",
    "cv_results = cross_validate(\n",
    "    model_grid_search, data, target, cv=10, return_estimator=True, scoring=\"balanced_accuracy\")"
   ]
  },
  {
   "cell_type": "code",
   "execution_count": 34,
   "metadata": {},
   "outputs": [
    {
     "name": "stdout",
     "output_type": "stream",
     "text": [
      "Best parameter found on fold #1\n",
      "{'classifier__n_neighbors': 5, 'preprocessor': QuantileTransformer(n_quantiles=100)}\n",
      "Best parameter found on fold #2\n",
      "{'classifier__n_neighbors': 5, 'preprocessor': StandardScaler()}\n",
      "Best parameter found on fold #3\n",
      "{'classifier__n_neighbors': 5, 'preprocessor': PowerTransformer(method='box-cox')}\n",
      "Best parameter found on fold #4\n",
      "{'classifier__n_neighbors': 5, 'preprocessor': PowerTransformer(method='box-cox')}\n",
      "Best parameter found on fold #5\n",
      "{'classifier__n_neighbors': 5, 'preprocessor': PowerTransformer(method='box-cox')}\n",
      "Best parameter found on fold #6\n",
      "{'classifier__n_neighbors': 5, 'preprocessor': PowerTransformer(method='box-cox')}\n",
      "Best parameter found on fold #7\n",
      "{'classifier__n_neighbors': 5, 'preprocessor': PowerTransformer(method='box-cox')}\n",
      "Best parameter found on fold #8\n",
      "{'classifier__n_neighbors': 5, 'preprocessor': PowerTransformer(method='box-cox')}\n",
      "Best parameter found on fold #9\n",
      "{'classifier__n_neighbors': 5, 'preprocessor': PowerTransformer(method='box-cox')}\n",
      "Best parameter found on fold #10\n",
      "{'classifier__n_neighbors': 5, 'preprocessor': StandardScaler()}\n"
     ]
    }
   ],
   "source": [
    "for fold_idx, estimator in enumerate(cv_results[\"estimator\"]):\n",
    "    print(f\"Best parameter found on fold #{fold_idx + 1}\")\n",
    "    print(f\"{estimator.best_params_}\")"
   ]
  },
  {
   "cell_type": "code",
   "execution_count": 35,
   "metadata": {},
   "outputs": [
    {
     "name": "stdout",
     "output_type": "stream",
     "text": [
      "Accuracy score by cross-validation combined with hyperparameters search:\n",
      "0.940 +/- 0.043\n"
     ]
    }
   ],
   "source": [
    "scores = cv_results[\"test_score\"]\n",
    "print(f\"Accuracy score by cross-validation combined with hyperparameters \"\n",
    "      f\"search:\\n{scores.mean():.3f} +/- {scores.std():.3f}\")"
   ]
  },
  {
   "cell_type": "code",
   "execution_count": 36,
   "metadata": {},
   "outputs": [
    {
     "data": {
      "text/plain": [
       "array([0.95238095, 1.        , 1.        , 0.86324786, 0.88253968,\n",
       "       0.95238095, 0.95555556, 0.93015873, 0.90793651, 0.95238095])"
      ]
     },
     "execution_count": 36,
     "metadata": {},
     "output_type": "execute_result"
    }
   ],
   "source": [
    "scores"
   ]
  },
  {
   "cell_type": "code",
   "execution_count": 38,
   "metadata": {},
   "outputs": [
    {
     "name": "stdout",
     "output_type": "stream",
     "text": [
      "Best parameter found on fold #1\n",
      "{'classifier__n_neighbors': 51}\n",
      "Best parameter found on fold #2\n",
      "{'classifier__n_neighbors': 51}\n",
      "Best parameter found on fold #3\n",
      "{'classifier__n_neighbors': 51}\n",
      "Best parameter found on fold #4\n",
      "{'classifier__n_neighbors': 51}\n",
      "Best parameter found on fold #5\n",
      "{'classifier__n_neighbors': 51}\n",
      "Best parameter found on fold #6\n",
      "{'classifier__n_neighbors': 51}\n",
      "Best parameter found on fold #7\n",
      "{'classifier__n_neighbors': 51}\n",
      "Best parameter found on fold #8\n",
      "{'classifier__n_neighbors': 51}\n",
      "Best parameter found on fold #9\n",
      "{'classifier__n_neighbors': 51}\n",
      "Best parameter found on fold #10\n",
      "{'classifier__n_neighbors': 51}\n"
     ]
    }
   ],
   "source": [
    "from sklearn.model_selection import cross_validate\n",
    "\n",
    "model = Pipeline(steps=[\n",
    "    (\"preprocessor\", StandardScaler()),\n",
    "    (\"classifier\", KNeighborsClassifier()),\n",
    "])\n",
    "\n",
    "param_grid = {\n",
    "    'classifier__n_neighbors': (51, 101)}\n",
    "\n",
    "model_grid_search = GridSearchCV(model, param_grid=param_grid,\n",
    "                                 n_jobs=4, cv=2)\n",
    "\n",
    "cv_results = cross_validate(\n",
    "    model_grid_search, data, target, cv=10, return_estimator=True, scoring=\"balanced_accuracy\")\n",
    "\n",
    "for fold_idx, estimator in enumerate(cv_results[\"estimator\"]):\n",
    "    print(f\"Best parameter found on fold #{fold_idx + 1}\")\n",
    "    print(f\"{estimator.best_params_}\")"
   ]
  },
  {
   "cell_type": "markdown",
   "metadata": {},
   "source": [
    "Let's do the grid search with:"
   ]
  },
  {
   "cell_type": "code",
   "execution_count": 40,
   "metadata": {},
   "outputs": [],
   "source": [
    "from sklearn.model_selection import GridSearchCV\n",
    "param_grid = {\n",
    "  \"preprocessor\": all_preprocessors,\n",
    "  \"classifier__n_neighbors\": [5, 51, 101],\n",
    "}\n",
    "\n",
    "grid_search = GridSearchCV(\n",
    "    model,\n",
    "    param_grid=param_grid,\n",
    "    scoring=\"balanced_accuracy\",\n",
    "    cv=10,\n",
    ").fit(data, target)\n",
    "#grid_search.cv_results_\n"
   ]
  },
  {
   "cell_type": "markdown",
   "metadata": {},
   "source": [
    "We can sort the results and focus on the columns of interest with:"
   ]
  },
  {
   "cell_type": "code",
   "execution_count": 41,
   "metadata": {},
   "outputs": [],
   "source": [
    "results = (\n",
    "    pd.DataFrame(grid_search.cv_results_)\n",
    "    .sort_values(by=\"mean_test_score\", ascending=False)\n",
    ")\n",
    "\n",
    "results = results[\n",
    "    [c for c in results.columns if c.startswith(\"param_\")]\n",
    "    + [\"mean_test_score\", \"std_test_score\"]\n",
    "]"
   ]
  },
  {
   "cell_type": "code",
   "execution_count": 42,
   "metadata": {},
   "outputs": [
    {
     "data": {
      "text/html": [
       "<div>\n",
       "<style scoped>\n",
       "    .dataframe tbody tr th:only-of-type {\n",
       "        vertical-align: middle;\n",
       "    }\n",
       "\n",
       "    .dataframe tbody tr th {\n",
       "        vertical-align: top;\n",
       "    }\n",
       "\n",
       "    .dataframe thead th {\n",
       "        text-align: right;\n",
       "    }\n",
       "</style>\n",
       "<table border=\"1\" class=\"dataframe\">\n",
       "  <thead>\n",
       "    <tr style=\"text-align: right;\">\n",
       "      <th></th>\n",
       "      <th>param_classifier__n_neighbors</th>\n",
       "      <th>param_preprocessor</th>\n",
       "      <th>mean_test_score</th>\n",
       "      <th>std_test_score</th>\n",
       "    </tr>\n",
       "  </thead>\n",
       "  <tbody>\n",
       "    <tr>\n",
       "      <th>1</th>\n",
       "      <td>5</td>\n",
       "      <td>StandardScaler()</td>\n",
       "      <td>0.952198</td>\n",
       "      <td>0.039902</td>\n",
       "    </tr>\n",
       "    <tr>\n",
       "      <th>2</th>\n",
       "      <td>5</td>\n",
       "      <td>MinMaxScaler()</td>\n",
       "      <td>0.947778</td>\n",
       "      <td>0.034268</td>\n",
       "    </tr>\n",
       "    <tr>\n",
       "      <th>3</th>\n",
       "      <td>5</td>\n",
       "      <td>QuantileTransformer(n_quantiles=100)</td>\n",
       "      <td>0.947094</td>\n",
       "      <td>0.033797</td>\n",
       "    </tr>\n",
       "    <tr>\n",
       "      <th>4</th>\n",
       "      <td>5</td>\n",
       "      <td>PowerTransformer(method='box-cox')</td>\n",
       "      <td>0.946960</td>\n",
       "      <td>0.047387</td>\n",
       "    </tr>\n",
       "    <tr>\n",
       "      <th>6</th>\n",
       "      <td>51</td>\n",
       "      <td>StandardScaler()</td>\n",
       "      <td>0.941880</td>\n",
       "      <td>0.038905</td>\n",
       "    </tr>\n",
       "    <tr>\n",
       "      <th>8</th>\n",
       "      <td>51</td>\n",
       "      <td>QuantileTransformer(n_quantiles=100)</td>\n",
       "      <td>0.927277</td>\n",
       "      <td>0.043759</td>\n",
       "    </tr>\n",
       "    <tr>\n",
       "      <th>9</th>\n",
       "      <td>51</td>\n",
       "      <td>PowerTransformer(method='box-cox')</td>\n",
       "      <td>0.922833</td>\n",
       "      <td>0.047883</td>\n",
       "    </tr>\n",
       "    <tr>\n",
       "      <th>7</th>\n",
       "      <td>51</td>\n",
       "      <td>MinMaxScaler()</td>\n",
       "      <td>0.920293</td>\n",
       "      <td>0.045516</td>\n",
       "    </tr>\n",
       "    <tr>\n",
       "      <th>11</th>\n",
       "      <td>101</td>\n",
       "      <td>StandardScaler()</td>\n",
       "      <td>0.876642</td>\n",
       "      <td>0.041618</td>\n",
       "    </tr>\n",
       "    <tr>\n",
       "      <th>12</th>\n",
       "      <td>101</td>\n",
       "      <td>MinMaxScaler()</td>\n",
       "      <td>0.862357</td>\n",
       "      <td>0.046244</td>\n",
       "    </tr>\n",
       "    <tr>\n",
       "      <th>14</th>\n",
       "      <td>101</td>\n",
       "      <td>PowerTransformer(method='box-cox')</td>\n",
       "      <td>0.857143</td>\n",
       "      <td>0.041000</td>\n",
       "    </tr>\n",
       "    <tr>\n",
       "      <th>13</th>\n",
       "      <td>101</td>\n",
       "      <td>QuantileTransformer(n_quantiles=100)</td>\n",
       "      <td>0.812991</td>\n",
       "      <td>0.044788</td>\n",
       "    </tr>\n",
       "    <tr>\n",
       "      <th>0</th>\n",
       "      <td>5</td>\n",
       "      <td>None</td>\n",
       "      <td>0.739838</td>\n",
       "      <td>0.086685</td>\n",
       "    </tr>\n",
       "    <tr>\n",
       "      <th>10</th>\n",
       "      <td>101</td>\n",
       "      <td>None</td>\n",
       "      <td>0.613857</td>\n",
       "      <td>0.031472</td>\n",
       "    </tr>\n",
       "    <tr>\n",
       "      <th>5</th>\n",
       "      <td>51</td>\n",
       "      <td>None</td>\n",
       "      <td>0.605182</td>\n",
       "      <td>0.036480</td>\n",
       "    </tr>\n",
       "  </tbody>\n",
       "</table>\n",
       "</div>"
      ],
      "text/plain": [
       "   param_classifier__n_neighbors                    param_preprocessor  \\\n",
       "1                              5                      StandardScaler()   \n",
       "2                              5                        MinMaxScaler()   \n",
       "3                              5  QuantileTransformer(n_quantiles=100)   \n",
       "4                              5    PowerTransformer(method='box-cox')   \n",
       "6                             51                      StandardScaler()   \n",
       "8                             51  QuantileTransformer(n_quantiles=100)   \n",
       "9                             51    PowerTransformer(method='box-cox')   \n",
       "7                             51                        MinMaxScaler()   \n",
       "11                           101                      StandardScaler()   \n",
       "12                           101                        MinMaxScaler()   \n",
       "14                           101    PowerTransformer(method='box-cox')   \n",
       "13                           101  QuantileTransformer(n_quantiles=100)   \n",
       "0                              5                                  None   \n",
       "10                           101                                  None   \n",
       "5                             51                                  None   \n",
       "\n",
       "    mean_test_score  std_test_score  \n",
       "1          0.952198        0.039902  \n",
       "2          0.947778        0.034268  \n",
       "3          0.947094        0.033797  \n",
       "4          0.946960        0.047387  \n",
       "6          0.941880        0.038905  \n",
       "8          0.927277        0.043759  \n",
       "9          0.922833        0.047883  \n",
       "7          0.920293        0.045516  \n",
       "11         0.876642        0.041618  \n",
       "12         0.862357        0.046244  \n",
       "14         0.857143        0.041000  \n",
       "13         0.812991        0.044788  \n",
       "0          0.739838        0.086685  \n",
       "10         0.613857        0.031472  \n",
       "5          0.605182        0.036480  "
      ]
     },
     "execution_count": 42,
     "metadata": {},
     "output_type": "execute_result"
    }
   ],
   "source": [
    "results"
   ]
  },
  {
   "cell_type": "code",
   "execution_count": null,
   "metadata": {},
   "outputs": [],
   "source": []
  }
 ],
 "metadata": {
  "kernelspec": {
   "display_name": "Python 3",
   "language": "python",
   "name": "python3"
  },
  "language_info": {
   "codemirror_mode": {
    "name": "ipython",
    "version": 3
   },
   "file_extension": ".py",
   "mimetype": "text/x-python",
   "name": "python",
   "nbconvert_exporter": "python",
   "pygments_lexer": "ipython3",
   "version": "3.9.2"
  }
 },
 "nbformat": 4,
 "nbformat_minor": 4
}
