{
 "cells": [
  {
   "cell_type": "code",
   "execution_count": 1,
   "metadata": {},
   "outputs": [],
   "source": [
    "import pandas as pd\n",
    "\n",
    "blood_transfusion = pd.read_csv(\"../datasets/blood_transfusion.csv\")\n",
    "data = blood_transfusion.drop(columns=\"Class\")\n",
    "target = blood_transfusion[\"Class\"]"
   ]
  },
  {
   "cell_type": "code",
   "execution_count": 2,
   "metadata": {},
   "outputs": [
    {
     "name": "stdout",
     "output_type": "stream",
     "text": [
      "0.762054054054054\n"
     ]
    }
   ],
   "source": [
    "from sklearn.dummy import DummyClassifier\n",
    "from sklearn.model_selection import cross_validate\n",
    "\n",
    "dummy_classifier = DummyClassifier(strategy=\"most_frequent\")\n",
    "\n",
    "scores = cross_validate(\n",
    "    dummy_classifier, data, target, cv=10, \n",
    "    scoring=['accuracy'],\n",
    "    return_estimator=True, n_jobs=2)\n",
    "print(scores['test_accuracy'].mean())"
   ]
  },
  {
   "cell_type": "code",
   "execution_count": 3,
   "metadata": {},
   "outputs": [
    {
     "name": "stdout",
     "output_type": "stream",
     "text": [
      "Average accuracy: 0.762\n",
      "Average balanced accuracy: 0.500\n"
     ]
    }
   ],
   "source": [
    "dummy = DummyClassifier(strategy=\"most_frequent\")\n",
    "cv_results = cross_validate(\n",
    "    dummy, data, target, cv=10, scoring=[\"accuracy\", \"balanced_accuracy\"]\n",
    ")\n",
    "print(f\"Average accuracy: {cv_results['test_accuracy'].mean():.3f}\")\n",
    "print(f\"Average balanced accuracy: \"\n",
    "      f\"{cv_results['test_balanced_accuracy'].mean():.3f}\")"
   ]
  },
  {
   "cell_type": "code",
   "execution_count": 4,
   "metadata": {},
   "outputs": [
    {
     "name": "stdout",
     "output_type": "stream",
     "text": [
      "Average accuracy: 0.627\n",
      "Average balanced accuracy: 0.509\n"
     ]
    }
   ],
   "source": [
    "from sklearn.tree import DecisionTreeClassifier\n",
    "\n",
    "tree = DecisionTreeClassifier()\n",
    "cv_results = cross_validate(\n",
    "    tree, data, target, cv=10, scoring=[\"accuracy\", \"balanced_accuracy\"]\n",
    ")\n",
    "print(f\"Average accuracy: {cv_results['test_accuracy'].mean():.3f}\")\n",
    "print(f\"Average balanced accuracy: \"\n",
    "      f\"{cv_results['test_balanced_accuracy'].mean():.3f}\")"
   ]
  },
  {
   "cell_type": "code",
   "execution_count": 30,
   "metadata": {},
   "outputs": [
    {
     "name": "stdout",
     "output_type": "stream",
     "text": [
      "Average accuracy: 0.665\n",
      "Average balanced accuracy: 0.522\n"
     ]
    }
   ],
   "source": [
    "from sklearn.ensemble import RandomForestClassifier\n",
    "\n",
    "forest = RandomForestClassifier(n_estimators=300)\n",
    "cv_results = cross_validate(\n",
    "    forest, data, target, cv=10, scoring=[\"accuracy\", \"balanced_accuracy\"]\n",
    ")\n",
    "print(f\"Average accuracy: {cv_results['test_accuracy'].mean():.3f}\")\n",
    "print(f\"Average balanced accuracy: \"\n",
    "      f\"{cv_results['test_balanced_accuracy'].mean():.3f}\")"
   ]
  },
  {
   "cell_type": "code",
   "execution_count": 15,
   "metadata": {},
   "outputs": [],
   "source": [
    "from sklearn.ensemble import GradientBoostingClassifier\n",
    "\n",
    "forest = RandomForestClassifier(n_estimators=300)\n",
    "gbooster = GradientBoostingClassifier(n_estimators=300)"
   ]
  },
  {
   "cell_type": "code",
   "execution_count": 8,
   "metadata": {},
   "outputs": [],
   "source": [
    "from sklearn.model_selection import RepeatedKFold\n",
    "from sklearn.model_selection import cross_val_score\n",
    "\n",
    "cv = RepeatedKFold(n_splits=10, n_repeats=10, random_state=1)\n",
    "\n",
    "forest_cv_results = cross_validate(\n",
    "    forest, data, target, cv=cv, scoring=\"balanced_accuracy\"\n",
    ")\n",
    "\n",
    "gbooster_cv_results = cross_validate(\n",
    "    forest, data, target, cv=cv, scoring=\"balanced_accuracy\"\n",
    ")"
   ]
  },
  {
   "cell_type": "code",
   "execution_count": 23,
   "metadata": {},
   "outputs": [
    {
     "name": "stdout",
     "output_type": "stream",
     "text": [
      "0 10 0\n"
     ]
    }
   ],
   "source": [
    "forest_better = 0\n",
    "booster_better = 0\n",
    "equal = 0\n",
    "for _ in range(10):\n",
    "    forest = RandomForestClassifier(n_estimators=300)\n",
    "    gbooster = GradientBoostingClassifier(n_estimators=300)\n",
    "    forest_cv_results = cross_validate(\n",
    "        forest, data, target, cv=10, scoring=[\"balanced_accuracy\"]\n",
    "    )\n",
    "\n",
    "    gbooster_cv_results = cross_validate(\n",
    "        gbooster, data, target, cv=10, scoring=[\"balanced_accuracy\"]\n",
    "    )\n",
    "    if forest_cv_results['test_balanced_accuracy'].mean() > gbooster_cv_results['test_balanced_accuracy'].mean():\n",
    "        forest_better += 1\n",
    "    elif forest_cv_results['test_balanced_accuracy'].mean() < gbooster_cv_results['test_balanced_accuracy'].mean():\n",
    "        booster_better += 1\n",
    "    else:\n",
    "        equal += 1\n",
    "print(forest_better, booster_better, equal)"
   ]
  },
  {
   "cell_type": "code",
   "execution_count": 24,
   "metadata": {},
   "outputs": [
    {
     "data": {
      "text/plain": [
       "9"
      ]
     },
     "execution_count": 24,
     "metadata": {},
     "output_type": "execute_result"
    }
   ],
   "source": [
    "from sklearn.ensemble import RandomForestClassifier\n",
    "from sklearn.ensemble import GradientBoostingClassifier\n",
    "from sklearn.model_selection import KFold\n",
    "\n",
    "n_try = 10\n",
    "scores_rf, scores_gbdt = [], []\n",
    "for seed in range(n_try):\n",
    "    cv = KFold(n_splits=10, shuffle=True, random_state=seed)\n",
    "\n",
    "    rf = RandomForestClassifier(n_estimators=300, n_jobs=2)\n",
    "    scores = cross_val_score(\n",
    "        rf, data, target, cv=cv, scoring=\"balanced_accuracy\", n_jobs=2\n",
    "    )\n",
    "    scores_rf.append(scores.mean())\n",
    "\n",
    "    gbdt = GradientBoostingClassifier(n_estimators=300)\n",
    "    scores = cross_val_score(\n",
    "        gbdt, data, target, cv=cv, scoring=\"balanced_accuracy\", n_jobs=2\n",
    "    )\n",
    "    scores_gbdt.append(scores.mean())\n",
    "\n",
    "compare = [s_gbdt > s_rf for s_gbdt, s_rf in zip(scores_gbdt, scores_rf)]\n",
    "sum(compare)"
   ]
  },
  {
   "cell_type": "code",
   "execution_count": 31,
   "metadata": {},
   "outputs": [
    {
     "name": "stdout",
     "output_type": "stream",
     "text": [
      "Average accuracy: 0.733\n",
      "Average balanced accuracy: 0.574\n"
     ]
    }
   ],
   "source": [
    "from sklearn.experimental import enable_hist_gradient_boosting\n",
    "from sklearn.ensemble import HistGradientBoostingClassifier\n",
    "\n",
    "histogram_gradient_boosting = HistGradientBoostingClassifier(\n",
    "    max_iter=1000, \n",
    "    early_stopping=True,\n",
    "    random_state=0\n",
    ")\n",
    "\n",
    "cv_results = cross_validate(\n",
    "    histogram_gradient_boosting, data, target, cv=10, scoring=[\"accuracy\", \"balanced_accuracy\"], n_jobs=2\n",
    ")\n",
    "\n",
    "print(f\"Average accuracy: {cv_results['test_accuracy'].mean():.3f}\")\n",
    "print(f\"Average balanced accuracy: \"\n",
    "      f\"{cv_results['test_balanced_accuracy'].mean():.3f}\")"
   ]
  },
  {
   "cell_type": "code",
   "execution_count": 29,
   "metadata": {},
   "outputs": [
    {
     "name": "stdout",
     "output_type": "stream",
     "text": [
      "Average accuracy: 0.690\n",
      "Average balanced accuracy: 0.536\n"
     ]
    }
   ],
   "source": [
    "gbdt = GradientBoostingClassifier(n_estimators=300)\n",
    "    \n",
    "cv_results = cross_validate(\n",
    "    gbdt, data, target, cv=10, scoring=[\"accuracy\", \"balanced_accuracy\"]\n",
    ")\n",
    "\n",
    "print(f\"Average accuracy: {cv_results['test_accuracy'].mean():.3f}\")\n",
    "print(f\"Average balanced accuracy: \"\n",
    "      f\"{cv_results['test_balanced_accuracy'].mean():.3f}\")"
   ]
  },
  {
   "cell_type": "code",
   "execution_count": 33,
   "metadata": {},
   "outputs": [
    {
     "data": {
      "text/plain": [
       "28"
      ]
     },
     "execution_count": 33,
     "metadata": {},
     "output_type": "execute_result"
    }
   ],
   "source": [
    "hgbdt = HistGradientBoostingClassifier(\n",
    "    max_iter=1000, \n",
    "    early_stopping=True,\n",
    "    random_state=0\n",
    ")\n",
    "hgbdt.fit(data, target)\n",
    "hgbdt.n_iter_"
   ]
  },
  {
   "cell_type": "code",
   "execution_count": 36,
   "metadata": {},
   "outputs": [
    {
     "data": {
      "text/plain": [
       "33.3"
      ]
     },
     "execution_count": 36,
     "metadata": {},
     "output_type": "execute_result"
    }
   ],
   "source": [
    "import numpy as np\n",
    "\n",
    "hgbdt = HistGradientBoostingClassifier(\n",
    "    max_iter=1000, \n",
    "    early_stopping=True,\n",
    "    random_state=0\n",
    ")\n",
    "\n",
    "cv_results = cross_validate(\n",
    "    hgbdt, data, target, cv=10, scoring=[\"balanced_accuracy\"], n_jobs=2, return_estimator=True\n",
    ")\n",
    "\n",
    "np.mean([estimator.n_iter_ for estimator in cv_results[\"estimator\"]])"
   ]
  },
  {
   "cell_type": "code",
   "execution_count": 37,
   "metadata": {},
   "outputs": [
    {
     "name": "stdout",
     "output_type": "stream",
     "text": [
      "Average balanced accuracy: 0.591\n"
     ]
    }
   ],
   "source": [
    "from imblearn.ensemble import BalancedBaggingClassifier\n",
    "\n",
    "bbc = BalancedBaggingClassifier(base_estimator=hgbdt,n_estimators=50)\n",
    "\n",
    "cv_results = cross_validate(\n",
    "    bbc, data, target, cv=10, scoring=[\"balanced_accuracy\"], n_jobs=2, return_estimator=True\n",
    ")\n",
    "\n",
    "print(f\"Average balanced accuracy: \"\n",
    "      f\"{cv_results['test_balanced_accuracy'].mean():.3f}\")"
   ]
  },
  {
   "cell_type": "code",
   "execution_count": 39,
   "metadata": {},
   "outputs": [
    {
     "data": {
      "text/plain": [
       "0.6010663914688682"
      ]
     },
     "execution_count": 39,
     "metadata": {},
     "output_type": "execute_result"
    }
   ],
   "source": [
    "from imblearn.ensemble import BalancedBaggingClassifier\n",
    "\n",
    "balanced_bagging = BalancedBaggingClassifier(\n",
    "    hgbdt, n_estimators=50, n_jobs=2, random_state=0\n",
    ")\n",
    "scores_balanced_bagging = cross_val_score(\n",
    "    balanced_bagging, data, target, cv=10, scoring=\"balanced_accuracy\",\n",
    "    n_jobs=2\n",
    ")\n",
    "scores_balanced_bagging.mean()"
   ]
  },
  {
   "cell_type": "code",
   "execution_count": null,
   "metadata": {},
   "outputs": [],
   "source": []
  }
 ],
 "metadata": {
  "kernelspec": {
   "display_name": "Python 3",
   "language": "python",
   "name": "python3"
  },
  "language_info": {
   "codemirror_mode": {
    "name": "ipython",
    "version": 3
   },
   "file_extension": ".py",
   "mimetype": "text/x-python",
   "name": "python",
   "nbconvert_exporter": "python",
   "pygments_lexer": "ipython3",
   "version": "3.9.2"
  }
 },
 "nbformat": 4,
 "nbformat_minor": 4
}
