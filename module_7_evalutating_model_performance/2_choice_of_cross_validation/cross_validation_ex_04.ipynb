{
 "cells": [
  {
   "cell_type": "markdown",
   "id": "05ebedf7",
   "metadata": {},
   "source": [
    "# 📝 Introductory exercise for sample grouping\n",
    "\n",
    "This exercise aims at highlighting issues that one could encounter when\n",
    "discarding grouping pattern existing in a dataset.\n",
    "\n",
    "We will use the digits dataset which includes some grouping pattern."
   ]
  },
  {
   "cell_type": "code",
   "execution_count": 1,
   "id": "3af970c7",
   "metadata": {},
   "outputs": [],
   "source": [
    "from sklearn.datasets import load_digits\n",
    "\n",
    "data, target = load_digits(return_X_y=True, as_frame=True)"
   ]
  },
  {
   "cell_type": "markdown",
   "id": "a99953d4",
   "metadata": {},
   "source": [
    "The first step is to create a model. Use a machine learning pipeline\n",
    "composed of a scaler followed by a logistic regression classifier."
   ]
  },
  {
   "cell_type": "code",
   "execution_count": 2,
   "id": "a5e16fce",
   "metadata": {},
   "outputs": [],
   "source": [
    "# Write your code here.\n",
    "from sklearn.preprocessing import StandardScaler\n",
    "from sklearn.linear_model import LogisticRegression\n",
    "from sklearn.pipeline import make_pipeline\n",
    "\n",
    "model = make_pipeline(StandardScaler(), LogisticRegression())"
   ]
  },
  {
   "cell_type": "markdown",
   "id": "b9c5cd4f",
   "metadata": {},
   "source": [
    "Then, create a a `KFold` object making sure that the data will not be\n",
    "shuffled during the cross-validation. Use the previous model, data, and\n",
    "cross-validation strategy defined to estimate the statistical performance of\n",
    "the model."
   ]
  },
  {
   "cell_type": "code",
   "execution_count": 4,
   "id": "595b3f60",
   "metadata": {},
   "outputs": [
    {
     "name": "stdout",
     "output_type": "stream",
     "text": [
      "0.9304396215915415\n"
     ]
    }
   ],
   "source": [
    "# Write your code here.\n",
    "from sklearn.model_selection import KFold\n",
    "from sklearn.model_selection import cross_validate\n",
    "\n",
    "cv = KFold(n_splits=3)\n",
    "results = cross_validate(model, data, target, cv=cv)\n",
    "print(results[\"test_score\"].mean())"
   ]
  },
  {
   "cell_type": "markdown",
   "id": "6da15671",
   "metadata": {},
   "source": [
    "Finally, perform the same experiment by shuffling the data within the\n",
    "cross-validation. Draw some conclusion regarding the dataset."
   ]
  },
  {
   "cell_type": "code",
   "execution_count": 5,
   "id": "e67adc64",
   "metadata": {},
   "outputs": [
    {
     "name": "stdout",
     "output_type": "stream",
     "text": [
      "0.9682804674457429\n"
     ]
    }
   ],
   "source": [
    "# Write your code here.\n",
    "cv = KFold(n_splits=3, shuffle=True)\n",
    "results = cross_validate(model, data, target, cv=cv)\n",
    "print(results[\"test_score\"].mean())"
   ]
  },
  {
   "cell_type": "code",
   "execution_count": null,
   "id": "1a0a206f",
   "metadata": {},
   "outputs": [],
   "source": []
  }
 ],
 "metadata": {
  "jupytext": {
   "cell_metadata_filter": "-all",
   "main_language": "python",
   "notebook_metadata_filter": "-all"
  },
  "kernelspec": {
   "display_name": "Python 3",
   "language": "python",
   "name": "python3"
  },
  "language_info": {
   "codemirror_mode": {
    "name": "ipython",
    "version": 3
   },
   "file_extension": ".py",
   "mimetype": "text/x-python",
   "name": "python",
   "nbconvert_exporter": "python",
   "pygments_lexer": "ipython3",
   "version": "3.9.2"
  },
  "nbreset": "https://github.com/INRIA/scikit-learn-mooc/raw/master/notebooks/cross_validation_ex_04.ipynb"
 },
 "nbformat": 4,
 "nbformat_minor": 5
}
