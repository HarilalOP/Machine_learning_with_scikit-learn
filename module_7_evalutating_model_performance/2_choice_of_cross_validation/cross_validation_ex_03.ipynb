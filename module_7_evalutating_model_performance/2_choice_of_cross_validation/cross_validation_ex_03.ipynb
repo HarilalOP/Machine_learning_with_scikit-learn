{
 "cells": [
  {
   "cell_type": "markdown",
   "id": "68eb3387",
   "metadata": {},
   "source": [
    "# 📝 Introductory exercise regarding stratification\n",
    "\n",
    "The goal of this exercise is to highlight one limitation of\n",
    "applying blindly a k-fold cross-validation.\n",
    "\n",
    "In this exercise we will use the iris dataset."
   ]
  },
  {
   "cell_type": "code",
   "execution_count": 1,
   "id": "df3347b4",
   "metadata": {},
   "outputs": [],
   "source": [
    "from sklearn.datasets import load_iris\n",
    "\n",
    "data, target = load_iris(return_X_y=True, as_frame=True)"
   ]
  },
  {
   "cell_type": "markdown",
   "id": "b47401d7",
   "metadata": {},
   "source": [
    "Create a decision tree classifier that we will use in the next experiments."
   ]
  },
  {
   "cell_type": "code",
   "execution_count": 2,
   "id": "efaa5bbc",
   "metadata": {},
   "outputs": [],
   "source": [
    "# Write your code here.\n",
    "from sklearn.tree import DecisionTreeClassifier\n",
    "tree = DecisionTreeClassifier()"
   ]
  },
  {
   "cell_type": "markdown",
   "id": "5fa2054c",
   "metadata": {},
   "source": [
    "As a first experiment, use the utility\n",
    "`sklearn.model_selection.train_test_split` to split the data into a train\n",
    "and test set. Train the classifier using the train set and check the score\n",
    "on the test set."
   ]
  },
  {
   "cell_type": "code",
   "execution_count": 5,
   "id": "7380c2d5",
   "metadata": {},
   "outputs": [
    {
     "name": "stdout",
     "output_type": "stream",
     "text": [
      "1.0\n"
     ]
    }
   ],
   "source": [
    "# Write your code here.\n",
    "from sklearn.model_selection import train_test_split\n",
    "from sklearn.metrics import accuracy_score\n",
    "\n",
    "data_train, data_test, target_train, target_test = train_test_split(data, target, random_state=42)\n",
    "\n",
    "tree.fit(data_train, target_train)\n",
    "target_pred = tree.predict(data_test)\n",
    "print(accuracy_score(target_test, target_pred))"
   ]
  },
  {
   "cell_type": "markdown",
   "id": "07137d2d",
   "metadata": {},
   "source": [
    "Now, use the utility `sklearn.utils.cross_val_score` with a\n",
    "`sklearn.model_selection.KFold` by setting only `n_splits=3`. Check the\n",
    "results on each fold. Explain the results."
   ]
  },
  {
   "cell_type": "code",
   "execution_count": 7,
   "id": "20146ba5",
   "metadata": {},
   "outputs": [
    {
     "name": "stdout",
     "output_type": "stream",
     "text": [
      "[0.95864662 0.91638796 0.86039886]\n"
     ]
    }
   ],
   "source": [
    "# Write your code here.\n",
    "from sklearn.model_selection import KFold\n",
    "from sklearn.model_selection import cross_val_score\n",
    "\n",
    "\n",
    "cv = KFold(n_splits=3, shuffle=True, random_state=1)\n",
    "\n",
    "scores = cross_val_score(\n",
    "    tree, \n",
    "    data, target, \n",
    "    cv=cv, \n",
    "    scoring=\"balanced_accuracy\", \n",
    "    n_jobs=2\n",
    ")\n",
    "\n",
    "print(scores)"
   ]
  },
  {
   "cell_type": "code",
   "execution_count": null,
   "id": "f0296bd0",
   "metadata": {},
   "outputs": [],
   "source": []
  }
 ],
 "metadata": {
  "jupytext": {
   "cell_metadata_filter": "-all",
   "main_language": "python",
   "notebook_metadata_filter": "-all"
  },
  "kernelspec": {
   "display_name": "Python 3",
   "language": "python",
   "name": "python3"
  },
  "language_info": {
   "codemirror_mode": {
    "name": "ipython",
    "version": 3
   },
   "file_extension": ".py",
   "mimetype": "text/x-python",
   "name": "python",
   "nbconvert_exporter": "python",
   "pygments_lexer": "ipython3",
   "version": "3.9.2"
  },
  "nbreset": "https://github.com/INRIA/scikit-learn-mooc/raw/master/notebooks/cross_validation_ex_03.ipynb"
 },
 "nbformat": 4,
 "nbformat_minor": 5
}
